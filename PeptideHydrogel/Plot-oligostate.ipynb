{
 "cells": [
  {
   "cell_type": "code",
   "execution_count": 1,
   "metadata": {},
   "outputs": [],
   "source": [
    "#Usage\n",
    "#python3 plot-oligostate.py <.pdb file> <.xtc file> oligo-highest-size.dat <simulation time in nanoseconds(ns)>"
   ]
  },
  {
   "cell_type": "code",
   "execution_count": 1,
   "metadata": {},
   "outputs": [],
   "source": [
    "import matplotlib.pyplot as plt\n",
    "from matplotlib import pyplot\n",
    "from pylab import genfromtxt\n",
    "import numpy as np\n",
    "import subprocess as sp\n",
    "import os as os\n",
    "import sys\n",
    "import pandas as pd\n",
    "import mdtraj as md\n",
    "import matplotlib"
   ]
  },
  {
   "cell_type": "code",
   "execution_count": 11,
   "metadata": {},
   "outputs": [],
   "source": [
    "ref_structure=r\"C:\\Users\\zhang\\Work\\Analysis\\Traj\\050\\ALK2\\Run2\\ALKPep2_Run2_50_npt_eq.pdb\"\n",
    "traj         =r\"C:\\Users\\zhang\\Work\\Analysis\\Traj\\050\\ALK2\\Run2\\ALKPep2_Run2_50_protein_final.xtc\"\n",
    "inp          =\"ALK2_50_Run2_oligo_highest_size.dat\"\n",
    "Name         =\"ALKPep2\"\n",
    "Name1        =\"ALK2_50_Run2\"\n",
    "sim_t        =int(1000) #Simulation time in nano-seconds"
   ]
  },
  {
   "cell_type": "code",
   "execution_count": 3,
   "metadata": {},
   "outputs": [
    {
     "data": {
      "text/plain": [
       "50"
      ]
     },
     "execution_count": 3,
     "metadata": {},
     "output_type": "execute_result"
    }
   ],
   "source": [
    "#structure parameters\n",
    "\n",
    "topology   = md.load(ref_structure).topology\n",
    "trajectory = md.load(traj, top=ref_structure)\n",
    "frames     =trajectory.n_frames #Number of frames\n",
    "chains=topology.n_chains   #Number of chains\n",
    "atoms=int(topology.n_atoms/chains) #Number of atoms in each monomer \n",
    "AminoAcids = int(topology.n_residues/chains) #Number of residues per chain ('-2' avoid the N- and C- cap residues as individual residues)\n",
    "#adj=frames/sim_t #Snaphots saved every \"adj\" ns\n",
    "adj=int(5)\n",
    "chains"
   ]
  },
  {
   "cell_type": "code",
   "execution_count": 4,
   "metadata": {},
   "outputs": [
    {
     "data": {
      "text/plain": [
       "'ALK2_50_Run2_oligo_highest_size.dat'"
      ]
     },
     "execution_count": 4,
     "metadata": {},
     "output_type": "execute_result"
    }
   ],
   "source": [
    "inp"
   ]
  },
  {
   "cell_type": "code",
   "execution_count": 13,
   "metadata": {},
   "outputs": [
    {
     "data": {
      "image/png": "[encoded data removed]",
      "text/plain": [
       "<Figure size 432x288 with 1 Axes>"
      ]
     },
     "metadata": {
      "needs_background": "light"
     },
     "output_type": "display_data"
    }
   ],
   "source": [
    "for i in range(len(inp)):\n",
    "    data = genfromtxt(inp)\n",
    "    #print (data)\n",
    "    plt.plot(data[:,0], data[:,1], linewidth=2, linestyle='-', color = '#F97306')\n",
    "\n",
    "plt.xlim(0, sim_t)\n",
    "plt.ylim(0, 60)\n",
    "plt.xticks(np.arange(0, 1000, step=100))\n",
    "plt.xticks(fontsize=14)\n",
    "plt.yticks(fontsize=14)\n",
    "\n",
    "\n",
    "pyplot.ylabel('Oligomerization state', fontsize=16)\n",
    "pyplot.xlabel('Time(ns)', fontsize=16)\n",
    "plt.title(Name1)\n",
    "plt.savefig(Name+'_Oligomerisation_state.png', bbox_inches='tight', dpi=400)\n",
    "plt.show()"
   ]
  },
  {
   "cell_type": "code",
   "execution_count": null,
   "metadata": {},
   "outputs": [],
   "source": []
  }
 ],
 "metadata": {
  "kernelspec": {
   "display_name": "Python 3 (ipykernel)",
   "language": "python",
   "name": "python3"
  },
  "language_info": {
   "codemirror_mode": {
    "name": "ipython",
    "version": 3
   },
   "file_extension": ".py",
   "mimetype": "text/x-python",
   "name": "python",
   "nbconvert_exporter": "python",
   "pygments_lexer": "ipython3",
   "version": "3.9.7"
  }
 },
 "nbformat": 4,
 "nbformat_minor": 4
}
