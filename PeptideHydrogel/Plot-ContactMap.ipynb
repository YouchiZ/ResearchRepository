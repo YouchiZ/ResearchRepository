{
 "cells": [
  {
   "cell_type": "code",
   "execution_count": 1,
   "metadata": {},
   "outputs": [],
   "source": [
    "#Inter-residue Contact Map\n",
    "#python3 Plot-ContactMap.py <.pdb file> <.xtc file> contact-map.dat"
   ]
  },
  {
   "cell_type": "code",
   "execution_count": 10,
   "metadata": {},
   "outputs": [],
   "source": [
    "import matplotlib.pyplot as plt\n",
    "from matplotlib import pyplot\n",
    "import numpy as np\n",
    "import copy as cp\n",
    "import subprocess as sp\n",
    "import os as os\n",
    "import shutil as sh\n",
    "import sys\n",
    "import pandas as pd\n",
    "import mdtraj as md\n",
    "import matplotlib\n",
    "#matplotlib.use(\"TkAgg\")"
   ]
  },
  {
   "cell_type": "code",
   "execution_count": 18,
   "metadata": {},
   "outputs": [],
   "source": [
    "ref_structure=\"C:/users/zhang/Work/Analysis/Traj/050/ALK2/Run2/ALKPep2_Run2_50_npt_eq.pdb\"\n",
    "traj         =\"C:/users/zhang/Work/Analysis/Traj/050/ALK2/Run2/ALKPep2_Run2_50_protein_final.xtc\"\n",
    "inp          =r\"C:\\Users\\zhang\\Work\\Analysis\\Oligomerization\\contact-map.dat\"\n",
    "Name         =\"ALKPep2\"\n",
    "Name1        =\"ALK2\""
   ]
  },
  {
   "cell_type": "code",
   "execution_count": 19,
   "metadata": {},
   "outputs": [],
   "source": [
    "#structure parameters\n",
    "topology   = md.load(ref_structure).topology\n",
    "trajectory = md.load(traj, top=ref_structure)\n",
    "frames     =trajectory.n_frames #Number of frames\n",
    "chains     =topology.n_chains   #Number of chains\n",
    "atoms      =int(topology.n_atoms/chains) #Number of atoms in each monomer \n",
    "AminoAcids =int(topology.n_residues/chains)#Number of residues per chain"
   ]
  },
  {
   "cell_type": "code",
   "execution_count": 20,
   "metadata": {},
   "outputs": [],
   "source": [
    "\n",
    "#! more ALKPep4_protein_chainID.pdb"
   ]
  },
  {
   "cell_type": "code",
   "execution_count": 21,
   "metadata": {},
   "outputs": [],
   "source": [
    "isum=1\n",
    "atoms_list=[]\n",
    "residue_list=[]\n",
    "\n",
    "for residue in topology.chain(0).residues:\n",
    "    atoms_list.append(residue.n_atoms)\n",
    "    residue_list.append(residue)\n",
    "    ', '.join(map(lambda x: \"'\" + x + \"'\", str(residue_list)))\n",
    "#del residue_list[0]; del residue_list[-1] \n"
   ]
  },
  {
   "cell_type": "code",
   "execution_count": 22,
   "metadata": {},
   "outputs": [],
   "source": [
    "Norm_ContactMap = np.loadtxt(inp)"
   ]
  },
  {
   "cell_type": "code",
   "execution_count": 23,
   "metadata": {},
   "outputs": [
    {
     "data": {
      "text/plain": [
       "0.0"
      ]
     },
     "execution_count": 23,
     "metadata": {},
     "output_type": "execute_result"
    }
   ],
   "source": [
    "vmax=np.max(Norm_ContactMap)\n",
    "vmin=np.min(Norm_ContactMap)\n",
    "\n",
    "vmax\n",
    "vmin"
   ]
  },
  {
   "cell_type": "code",
   "execution_count": 24,
   "metadata": {},
   "outputs": [
    {
     "data": {
      "text/plain": [
       "0.0028664305669508865"
      ]
     },
     "execution_count": 24,
     "metadata": {},
     "output_type": "execute_result"
    }
   ],
   "source": [
    "df=np.amax(Norm_ContactMap)\n",
    "df"
   ]
  },
  {
   "cell_type": "code",
   "execution_count": 25,
   "metadata": {},
   "outputs": [
    {
     "data": {
      "image/png": "[encoded data removed]",
      "text/plain": [
       "<Figure size 432x288 with 2 Axes>"
      ]
     },
     "metadata": {
      "needs_background": "light"
     },
     "output_type": "display_data"
    }
   ],
   "source": [
    "fig, ax = plt.subplots()\n",
    "\n",
    "df=np.amax(Norm_ContactMap)\n",
    "im=ax.imshow(Norm_ContactMap, vmin=vmin, vmax=vmax, cmap = 'Blues')\n",
    "im.set_cmap('Purples')\n",
    "plt.title(Name1)\n",
    "\n",
    "ticks = range(AminoAcids)\n",
    "plt.xticks(list(ticks), labels=residue_list,rotation='vertical', fontsize=14)\n",
    "plt.yticks(list(ticks), labels=residue_list, fontsize=14)\n",
    "#cbar=plt.colorbar(cmap='Blues', boundaries=np.arange(0.0, vmax+0.1, 0.1))\n",
    "#cbar=plt.cm.ScalarMappable(cmap='Blues')\n",
    "cbar = fig.colorbar(im)\n",
    "cbar.ax.tick_params(labelsize=14) \n",
    "\n",
    "plt.savefig(Name+'_Contact_map.png', dpi=400, bbox_inches='tight')\n",
    "plt.show()"
   ]
  },
  {
   "cell_type": "code",
   "execution_count": null,
   "metadata": {},
   "outputs": [],
   "source": []
  },
  {
   "cell_type": "code",
   "execution_count": null,
   "metadata": {},
   "outputs": [],
   "source": []
  }
 ],
 "metadata": {
  "kernelspec": {
   "display_name": "Python 3.9.7 ('base')",
   "language": "python",
   "name": "python3"
  },
  "language_info": {
   "codemirror_mode": {
    "name": "ipython",
    "version": 3
   },
   "file_extension": ".py",
   "mimetype": "text/x-python",
   "name": "python",
   "nbconvert_exporter": "python",
   "pygments_lexer": "ipython3",
   "version": "3.9.7"
  },
  "vscode": {
   "interpreter": {
    "hash": "ad2bdc8ecc057115af97d19610ffacc2b4e99fae6737bb82f5d7fb13d2f2c186"
   }
  }
 },
 "nbformat": 4,
 "nbformat_minor": 4
}
